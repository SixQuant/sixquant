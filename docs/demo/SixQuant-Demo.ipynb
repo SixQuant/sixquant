{
 "cells": [
  {
   "cell_type": "markdown",
   "metadata": {
    "toc": "true"
   },
   "source": [
    "# Table of Contents\n",
    " <p><div class=\"lev1 toc-item\"><a href=\"#SixQuant\" data-toc-modified-id=\"SixQuant-1\"><span class=\"toc-item-num\">1&nbsp;&nbsp;</span>SixQuant</a></div><div class=\"lev1 toc-item\"><a href=\"#实时数据\" data-toc-modified-id=\"实时数据-2\"><span class=\"toc-item-num\">2&nbsp;&nbsp;</span>实时数据</a></div><div class=\"lev3 toc-item\"><a href=\"#股票列表\" data-toc-modified-id=\"股票列表-201\"><span class=\"toc-item-num\">2.0.1&nbsp;&nbsp;</span>股票列表</a></div><div class=\"lev4 toc-item\"><a href=\"#所有股票代码\" data-toc-modified-id=\"所有股票代码-2011\"><span class=\"toc-item-num\">2.0.1.1&nbsp;&nbsp;</span>所有股票代码</a></div><div class=\"lev4 toc-item\"><a href=\"#小盘股股票代码\" data-toc-modified-id=\"小盘股股票代码-2012\"><span class=\"toc-item-num\">2.0.1.2&nbsp;&nbsp;</span>小盘股股票代码</a></div><div class=\"lev3 toc-item\"><a href=\"#基本信息\" data-toc-modified-id=\"基本信息-202\"><span class=\"toc-item-num\">2.0.2&nbsp;&nbsp;</span>基本信息</a></div><div class=\"lev4 toc-item\"><a href=\"#股票名称\" data-toc-modified-id=\"股票名称-2021\"><span class=\"toc-item-num\">2.0.2.1&nbsp;&nbsp;</span>股票名称</a></div><div class=\"lev4 toc-item\"><a href=\"#流通盘及流通市值\" data-toc-modified-id=\"流通盘及流通市值-2022\"><span class=\"toc-item-num\">2.0.2.2&nbsp;&nbsp;</span>流通盘及流通市值</a></div><div class=\"lev3 toc-item\"><a href=\"#实时个数数据\" data-toc-modified-id=\"实时个数数据-203\"><span class=\"toc-item-num\">2.0.3&nbsp;&nbsp;</span>实时个数数据</a></div><div class=\"lev4 toc-item\"><a href=\"#个股股价信息\" data-toc-modified-id=\"个股股价信息-2031\"><span class=\"toc-item-num\">2.0.3.1&nbsp;&nbsp;</span>个股股价信息</a></div><div class=\"lev4 toc-item\"><a href=\"#个股资金信息\" data-toc-modified-id=\"个股资金信息-2032\"><span class=\"toc-item-num\">2.0.3.2&nbsp;&nbsp;</span>个股资金信息</a></div><div class=\"lev4 toc-item\"><a href=\"#所有个股数据\" data-toc-modified-id=\"所有个股数据-2033\"><span class=\"toc-item-num\">2.0.3.3&nbsp;&nbsp;</span>所有个股数据</a></div><div class=\"lev4 toc-item\"><a href=\"#指定字段\" data-toc-modified-id=\"指定字段-2034\"><span class=\"toc-item-num\">2.0.3.4&nbsp;&nbsp;</span>指定字段</a></div><div class=\"lev4 toc-item\"><a href=\"#只要小盘非ST非次新股\" data-toc-modified-id=\"只要小盘非ST非次新股-2035\"><span class=\"toc-item-num\">2.0.3.5&nbsp;&nbsp;</span>只要小盘非ST非次新股</a></div><div class=\"lev1 toc-item\"><a href=\"#历史数据\" data-toc-modified-id=\"历史数据-3\"><span class=\"toc-item-num\">3&nbsp;&nbsp;</span>历史数据</a></div><div class=\"lev1 toc-item\"><a href=\"#辅助函数\" data-toc-modified-id=\"辅助函数-4\"><span class=\"toc-item-num\">4&nbsp;&nbsp;</span>辅助函数</a></div><div class=\"lev3 toc-item\"><a href=\"#交易日期时间相关\" data-toc-modified-id=\"交易日期时间相关-401\"><span class=\"toc-item-num\">4.0.1&nbsp;&nbsp;</span>交易日期时间相关</a></div><div class=\"lev4 toc-item\"><a href=\"#是否是交易时间\" data-toc-modified-id=\"是否是交易时间-4011\"><span class=\"toc-item-num\">4.0.1.1&nbsp;&nbsp;</span>是否是交易时间</a></div><div class=\"lev1 toc-item\"><a href=\"#工具函数\" data-toc-modified-id=\"工具函数-5\"><span class=\"toc-item-num\">5&nbsp;&nbsp;</span>工具函数</a></div><div class=\"lev3 toc-item\"><a href=\"#格式化\" data-toc-modified-id=\"格式化-501\"><span class=\"toc-item-num\">5.0.1&nbsp;&nbsp;</span>格式化</a></div><div class=\"lev3 toc-item\"><a href=\"#日期时间相关\" data-toc-modified-id=\"日期时间相关-502\"><span class=\"toc-item-num\">5.0.2&nbsp;&nbsp;</span>日期时间相关</a></div>"
   ]
  },
  {
   "cell_type": "markdown",
   "metadata": {},
   "source": [
    "# SixQuant\n",
    "支持本地缓存的轻量级快速股票数据API接口"
   ]
  },
  {
   "cell_type": "code",
   "execution_count": 1,
   "metadata": {},
   "outputs": [
    {
     "name": "stdout",
     "output_type": "stream",
     "text": [
      "2017-11-03 17:44:16,851 DEBUG - Local code path: /Users/C/work/workspace/sixquant/sixquant/\n",
      "2017-11-03 17:44:16,852 DEBUG - Local data path: /Volumes/Cloud/DataSet/stock\n"
     ]
    }
   ],
   "source": [
    "# 为了方便直接调用本地最新源码而不是安装好的包\n",
    "import os\n",
    "if os.path.exists('support_sixquant.py'):\n",
    "    import support_sixquant"
   ]
  },
  {
   "cell_type": "code",
   "execution_count": 2,
   "metadata": {
    "scrolled": true
   },
   "outputs": [],
   "source": [
    "import sixquant as sq"
   ]
  },
  {
   "cell_type": "markdown",
   "metadata": {},
   "source": [
    "# 实时数据"
   ]
  },
  {
   "cell_type": "markdown",
   "metadata": {},
   "source": [
    "### 股票列表"
   ]
  },
  {
   "cell_type": "markdown",
   "metadata": {},
   "source": [
    "#### 所有股票代码"
   ]
  },
  {
   "cell_type": "code",
   "execution_count": 3,
   "metadata": {},
   "outputs": [
    {
     "data": {
      "text/plain": [
       "(3412, array(['603937', '300713', '603912', '300711', '300712'], dtype=object))"
      ]
     },
     "execution_count": 3,
     "metadata": {},
     "output_type": "execute_result"
    }
   ],
   "source": [
    "stocks = sq.get_stocks()\n",
    "len(stocks),stocks[:5]"
   ]
  },
  {
   "cell_type": "markdown",
   "metadata": {},
   "source": [
    "#### 小盘股股票代码"
   ]
  },
  {
   "cell_type": "code",
   "execution_count": 4,
   "metadata": {
    "scrolled": true
   },
   "outputs": [
    {
     "data": {
      "text/plain": [
       "(610, array(['603937', '300713', '603912', '300711', '300712'], dtype=object))"
      ]
     },
     "execution_count": 4,
     "metadata": {},
     "output_type": "execute_result"
    }
   ],
   "source": [
    "stocks = sq.get_stocks(small_only=True)\n",
    "len(stocks),stocks[:5]"
   ]
  },
  {
   "cell_type": "markdown",
   "metadata": {},
   "source": [
    "### 基本信息"
   ]
  },
  {
   "cell_type": "markdown",
   "metadata": {},
   "source": [
    "#### 股票名称"
   ]
  },
  {
   "cell_type": "code",
   "execution_count": 15,
   "metadata": {},
   "outputs": [
    {
     "data": {
      "text/plain": [
       "'读者传媒'"
      ]
     },
     "execution_count": 15,
     "metadata": {},
     "output_type": "execute_result"
    }
   ],
   "source": [
    "sq.get_stock_name('603999')"
   ]
  },
  {
   "cell_type": "markdown",
   "metadata": {},
   "source": [
    "#### 流通盘及流通市值"
   ]
  },
  {
   "cell_type": "code",
   "execution_count": 17,
   "metadata": {},
   "outputs": [
    {
     "name": "stdout",
     "output_type": "stream",
     "text": [
      "2.3\n",
      "21.09\n"
     ]
    }
   ],
   "source": [
    "print(sq.get_stock_circulation('603999'))\n",
    "print(sq.get_stock_circulation_cap('603999'))"
   ]
  },
  {
   "cell_type": "markdown",
   "metadata": {},
   "source": [
    "### 实时个数数据"
   ]
  },
  {
   "cell_type": "markdown",
   "metadata": {},
   "source": [
    "#### 个股股价信息"
   ]
  },
  {
   "cell_type": "code",
   "execution_count": 21,
   "metadata": {
    "scrolled": false
   },
   "outputs": [
    {
     "name": "stdout",
     "output_type": "stream",
     "text": [
      "3232\n"
     ]
    },
    {
     "data": {
      "text/html": [
       "<div>\n",
       "<style>\n",
       "    .dataframe thead tr:only-child th {\n",
       "        text-align: right;\n",
       "    }\n",
       "\n",
       "    .dataframe thead th {\n",
       "        text-align: left;\n",
       "    }\n",
       "\n",
       "    .dataframe tbody tr th {\n",
       "        vertical-align: top;\n",
       "    }\n",
       "</style>\n",
       "<table border=\"1\" class=\"dataframe\">\n",
       "  <thead>\n",
       "    <tr style=\"text-align: right;\">\n",
       "      <th></th>\n",
       "      <th>prev_close</th>\n",
       "      <th>open</th>\n",
       "      <th>close</th>\n",
       "      <th>high</th>\n",
       "      <th>low</th>\n",
       "      <th>volume</th>\n",
       "      <th>amount</th>\n",
       "      <th>pt_price</th>\n",
       "      <th>pt_ampl</th>\n",
       "      <th>pt_turn</th>\n",
       "      <th>time</th>\n",
       "    </tr>\n",
       "  </thead>\n",
       "  <tbody>\n",
       "    <tr>\n",
       "      <th>603999</th>\n",
       "      <td>9.17</td>\n",
       "      <td>9.23</td>\n",
       "      <td>9.13</td>\n",
       "      <td>9.23</td>\n",
       "      <td>9.08</td>\n",
       "      <td>1083200.0</td>\n",
       "      <td>9890000.0</td>\n",
       "      <td>-0.44</td>\n",
       "      <td>1.6</td>\n",
       "      <td>0.4</td>\n",
       "      <td>2017-11-03 10:38:00</td>\n",
       "    </tr>\n",
       "    <tr>\n",
       "      <th>603998</th>\n",
       "      <td>13.51</td>\n",
       "      <td>13.50</td>\n",
       "      <td>13.58</td>\n",
       "      <td>13.61</td>\n",
       "      <td>13.45</td>\n",
       "      <td>390300.0</td>\n",
       "      <td>5290000.0</td>\n",
       "      <td>0.52</td>\n",
       "      <td>1.1</td>\n",
       "      <td>0.1</td>\n",
       "      <td>2017-11-03 10:38:00</td>\n",
       "    </tr>\n",
       "    <tr>\n",
       "      <th>603997</th>\n",
       "      <td>12.90</td>\n",
       "      <td>12.87</td>\n",
       "      <td>12.99</td>\n",
       "      <td>13.00</td>\n",
       "      <td>12.81</td>\n",
       "      <td>555900.0</td>\n",
       "      <td>7180000.0</td>\n",
       "      <td>0.70</td>\n",
       "      <td>1.4</td>\n",
       "      <td>0.3</td>\n",
       "      <td>2017-11-03 10:38:00</td>\n",
       "    </tr>\n",
       "    <tr>\n",
       "      <th>603996</th>\n",
       "      <td>18.60</td>\n",
       "      <td>18.56</td>\n",
       "      <td>19.08</td>\n",
       "      <td>19.20</td>\n",
       "      <td>18.46</td>\n",
       "      <td>4285800.0</td>\n",
       "      <td>81320000.0</td>\n",
       "      <td>2.58</td>\n",
       "      <td>3.9</td>\n",
       "      <td>4.1</td>\n",
       "      <td>2017-11-03 10:38:00</td>\n",
       "    </tr>\n",
       "    <tr>\n",
       "      <th>603993</th>\n",
       "      <td>7.01</td>\n",
       "      <td>6.90</td>\n",
       "      <td>6.96</td>\n",
       "      <td>7.06</td>\n",
       "      <td>6.88</td>\n",
       "      <td>36848400.0</td>\n",
       "      <td>257330000.0</td>\n",
       "      <td>-0.71</td>\n",
       "      <td>2.5</td>\n",
       "      <td>0.2</td>\n",
       "      <td>2017-11-03 10:38:00</td>\n",
       "    </tr>\n",
       "  </tbody>\n",
       "</table>\n",
       "</div>"
      ],
      "text/plain": [
       "        prev_close   open  close   high    low      volume       amount  \\\n",
       "603999        9.17   9.23   9.13   9.23   9.08   1083200.0    9890000.0   \n",
       "603998       13.51  13.50  13.58  13.61  13.45    390300.0    5290000.0   \n",
       "603997       12.90  12.87  12.99  13.00  12.81    555900.0    7180000.0   \n",
       "603996       18.60  18.56  19.08  19.20  18.46   4285800.0   81320000.0   \n",
       "603993        7.01   6.90   6.96   7.06   6.88  36848400.0  257330000.0   \n",
       "\n",
       "        pt_price  pt_ampl  pt_turn                time  \n",
       "603999     -0.44      1.6      0.4 2017-11-03 10:38:00  \n",
       "603998      0.52      1.1      0.1 2017-11-03 10:38:00  \n",
       "603997      0.70      1.4      0.3 2017-11-03 10:38:00  \n",
       "603996      2.58      3.9      4.1 2017-11-03 10:38:00  \n",
       "603993     -0.71      2.5      0.2 2017-11-03 10:38:00  "
      ]
     },
     "execution_count": 21,
     "metadata": {},
     "output_type": "execute_result"
    }
   ],
   "source": [
    "df = sq.get_day_today_quote(dropna=True)\n",
    "print(len(df))\n",
    "df.head()"
   ]
  },
  {
   "cell_type": "code",
   "execution_count": 22,
   "metadata": {
    "scrolled": true
   },
   "outputs": [
    {
     "name": "stdout",
     "output_type": "stream",
     "text": [
      "3232\n"
     ]
    },
    {
     "data": {
      "text/html": [
       "<div>\n",
       "<style>\n",
       "    .dataframe thead tr:only-child th {\n",
       "        text-align: right;\n",
       "    }\n",
       "\n",
       "    .dataframe thead th {\n",
       "        text-align: left;\n",
       "    }\n",
       "\n",
       "    .dataframe tbody tr th {\n",
       "        vertical-align: top;\n",
       "    }\n",
       "</style>\n",
       "<table border=\"1\" class=\"dataframe\">\n",
       "  <thead>\n",
       "    <tr style=\"text-align: right;\">\n",
       "      <th></th>\n",
       "      <th>close</th>\n",
       "      <th>pt_price</th>\n",
       "    </tr>\n",
       "  </thead>\n",
       "  <tbody>\n",
       "    <tr>\n",
       "      <th>603999</th>\n",
       "      <td>9.13</td>\n",
       "      <td>-0.44</td>\n",
       "    </tr>\n",
       "    <tr>\n",
       "      <th>603998</th>\n",
       "      <td>13.58</td>\n",
       "      <td>0.52</td>\n",
       "    </tr>\n",
       "    <tr>\n",
       "      <th>603997</th>\n",
       "      <td>12.99</td>\n",
       "      <td>0.70</td>\n",
       "    </tr>\n",
       "    <tr>\n",
       "      <th>603996</th>\n",
       "      <td>19.08</td>\n",
       "      <td>2.58</td>\n",
       "    </tr>\n",
       "    <tr>\n",
       "      <th>603993</th>\n",
       "      <td>6.96</td>\n",
       "      <td>-0.71</td>\n",
       "    </tr>\n",
       "  </tbody>\n",
       "</table>\n",
       "</div>"
      ],
      "text/plain": [
       "        close  pt_price\n",
       "603999   9.13     -0.44\n",
       "603998  13.58      0.52\n",
       "603997  12.99      0.70\n",
       "603996  19.08      2.58\n",
       "603993   6.96     -0.71"
      ]
     },
     "execution_count": 22,
     "metadata": {},
     "output_type": "execute_result"
    }
   ],
   "source": [
    "df = sq.get_day_today_quote(fields=['close','pt_price'],dropna=True)\n",
    "print(len(df))\n",
    "df.head()"
   ]
  },
  {
   "cell_type": "markdown",
   "metadata": {},
   "source": [
    "#### 个股资金信息"
   ]
  },
  {
   "cell_type": "code",
   "execution_count": 23,
   "metadata": {
    "scrolled": true
   },
   "outputs": [
    {
     "name": "stdout",
     "output_type": "stream",
     "text": [
      "3232\n"
     ]
    },
    {
     "data": {
      "text/html": [
       "<div>\n",
       "<style>\n",
       "    .dataframe thead tr:only-child th {\n",
       "        text-align: right;\n",
       "    }\n",
       "\n",
       "    .dataframe thead th {\n",
       "        text-align: left;\n",
       "    }\n",
       "\n",
       "    .dataframe tbody tr th {\n",
       "        vertical-align: top;\n",
       "    }\n",
       "</style>\n",
       "<table border=\"1\" class=\"dataframe\">\n",
       "  <thead>\n",
       "    <tr style=\"text-align: right;\">\n",
       "      <th></th>\n",
       "      <th>price</th>\n",
       "      <th>pt_price</th>\n",
       "      <th>money_major</th>\n",
       "      <th>pt_money_major</th>\n",
       "      <th>money_huge</th>\n",
       "      <th>pt_money_huge</th>\n",
       "      <th>money_large</th>\n",
       "      <th>pt_money_large</th>\n",
       "      <th>money_medium</th>\n",
       "      <th>pt_money_medium</th>\n",
       "      <th>money_small</th>\n",
       "      <th>pt_money_small</th>\n",
       "      <th>time</th>\n",
       "    </tr>\n",
       "  </thead>\n",
       "  <tbody>\n",
       "    <tr>\n",
       "      <th>603997</th>\n",
       "      <td>12.95</td>\n",
       "      <td>0.39</td>\n",
       "      <td>552600.0</td>\n",
       "      <td>2.17</td>\n",
       "      <td>-19500.0</td>\n",
       "      <td>-0.08</td>\n",
       "      <td>572100.0</td>\n",
       "      <td>2.24</td>\n",
       "      <td>-1768900.0</td>\n",
       "      <td>-6.94</td>\n",
       "      <td>1216300.0</td>\n",
       "      <td>4.77</td>\n",
       "      <td>2017-11-03 15:00:00</td>\n",
       "    </tr>\n",
       "    <tr>\n",
       "      <th>603996</th>\n",
       "      <td>18.97</td>\n",
       "      <td>1.99</td>\n",
       "      <td>-968900.0</td>\n",
       "      <td>-0.54</td>\n",
       "      <td>-1468000.0</td>\n",
       "      <td>-0.82</td>\n",
       "      <td>499100.0</td>\n",
       "      <td>0.28</td>\n",
       "      <td>12051300.0</td>\n",
       "      <td>6.71</td>\n",
       "      <td>-11082500.0</td>\n",
       "      <td>-6.17</td>\n",
       "      <td>2017-11-03 15:00:00</td>\n",
       "    </tr>\n",
       "    <tr>\n",
       "      <th>603993</th>\n",
       "      <td>6.90</td>\n",
       "      <td>-1.57</td>\n",
       "      <td>-120230400.0</td>\n",
       "      <td>-14.92</td>\n",
       "      <td>-91330100.0</td>\n",
       "      <td>-11.34</td>\n",
       "      <td>-28900300.0</td>\n",
       "      <td>-3.59</td>\n",
       "      <td>55482800.0</td>\n",
       "      <td>6.89</td>\n",
       "      <td>64747700.0</td>\n",
       "      <td>8.04</td>\n",
       "      <td>2017-11-03 15:00:00</td>\n",
       "    </tr>\n",
       "    <tr>\n",
       "      <th>603990</th>\n",
       "      <td>39.54</td>\n",
       "      <td>0.46</td>\n",
       "      <td>1590600.0</td>\n",
       "      <td>7.70</td>\n",
       "      <td>1686300.0</td>\n",
       "      <td>8.16</td>\n",
       "      <td>-95700.0</td>\n",
       "      <td>-0.46</td>\n",
       "      <td>-1315700.0</td>\n",
       "      <td>-6.37</td>\n",
       "      <td>-275000.0</td>\n",
       "      <td>-1.33</td>\n",
       "      <td>2017-11-03 15:00:00</td>\n",
       "    </tr>\n",
       "    <tr>\n",
       "      <th>603989</th>\n",
       "      <td>36.98</td>\n",
       "      <td>-2.22</td>\n",
       "      <td>1047300.0</td>\n",
       "      <td>1.32</td>\n",
       "      <td>719200.0</td>\n",
       "      <td>0.91</td>\n",
       "      <td>328200.0</td>\n",
       "      <td>0.41</td>\n",
       "      <td>-9066600.0</td>\n",
       "      <td>-11.45</td>\n",
       "      <td>8019200.0</td>\n",
       "      <td>10.13</td>\n",
       "      <td>2017-11-03 15:00:00</td>\n",
       "    </tr>\n",
       "  </tbody>\n",
       "</table>\n",
       "</div>"
      ],
      "text/plain": [
       "        price  pt_price  money_major  pt_money_major  money_huge  \\\n",
       "603997  12.95      0.39     552600.0            2.17    -19500.0   \n",
       "603996  18.97      1.99    -968900.0           -0.54  -1468000.0   \n",
       "603993   6.90     -1.57 -120230400.0          -14.92 -91330100.0   \n",
       "603990  39.54      0.46    1590600.0            7.70   1686300.0   \n",
       "603989  36.98     -2.22    1047300.0            1.32    719200.0   \n",
       "\n",
       "        pt_money_huge  money_large  pt_money_large  money_medium  \\\n",
       "603997          -0.08     572100.0            2.24    -1768900.0   \n",
       "603996          -0.82     499100.0            0.28    12051300.0   \n",
       "603993         -11.34  -28900300.0           -3.59    55482800.0   \n",
       "603990           8.16     -95700.0           -0.46    -1315700.0   \n",
       "603989           0.91     328200.0            0.41    -9066600.0   \n",
       "\n",
       "        pt_money_medium  money_small  pt_money_small                time  \n",
       "603997            -6.94    1216300.0            4.77 2017-11-03 15:00:00  \n",
       "603996             6.71  -11082500.0           -6.17 2017-11-03 15:00:00  \n",
       "603993             6.89   64747700.0            8.04 2017-11-03 15:00:00  \n",
       "603990            -6.37    -275000.0           -1.33 2017-11-03 15:00:00  \n",
       "603989           -11.45    8019200.0           10.13 2017-11-03 15:00:00  "
      ]
     },
     "execution_count": 23,
     "metadata": {},
     "output_type": "execute_result"
    }
   ],
   "source": [
    "df = sq.get_day_today_money(dropna=True)\n",
    "print(len(df))\n",
    "df.head()"
   ]
  },
  {
   "cell_type": "code",
   "execution_count": 24,
   "metadata": {},
   "outputs": [
    {
     "name": "stdout",
     "output_type": "stream",
     "text": [
      "3232\n"
     ]
    },
    {
     "data": {
      "text/html": [
       "<div>\n",
       "<style>\n",
       "    .dataframe thead tr:only-child th {\n",
       "        text-align: right;\n",
       "    }\n",
       "\n",
       "    .dataframe thead th {\n",
       "        text-align: left;\n",
       "    }\n",
       "\n",
       "    .dataframe tbody tr th {\n",
       "        vertical-align: top;\n",
       "    }\n",
       "</style>\n",
       "<table border=\"1\" class=\"dataframe\">\n",
       "  <thead>\n",
       "    <tr style=\"text-align: right;\">\n",
       "      <th></th>\n",
       "      <th>money_major</th>\n",
       "      <th>money_small</th>\n",
       "    </tr>\n",
       "  </thead>\n",
       "  <tbody>\n",
       "    <tr>\n",
       "      <th>603997</th>\n",
       "      <td>552600.0</td>\n",
       "      <td>1216300.0</td>\n",
       "    </tr>\n",
       "    <tr>\n",
       "      <th>603996</th>\n",
       "      <td>-968900.0</td>\n",
       "      <td>-11082500.0</td>\n",
       "    </tr>\n",
       "    <tr>\n",
       "      <th>603993</th>\n",
       "      <td>-120230400.0</td>\n",
       "      <td>64747700.0</td>\n",
       "    </tr>\n",
       "    <tr>\n",
       "      <th>603990</th>\n",
       "      <td>1590600.0</td>\n",
       "      <td>-275000.0</td>\n",
       "    </tr>\n",
       "    <tr>\n",
       "      <th>603989</th>\n",
       "      <td>1047300.0</td>\n",
       "      <td>8019200.0</td>\n",
       "    </tr>\n",
       "  </tbody>\n",
       "</table>\n",
       "</div>"
      ],
      "text/plain": [
       "        money_major  money_small\n",
       "603997     552600.0    1216300.0\n",
       "603996    -968900.0  -11082500.0\n",
       "603993 -120230400.0   64747700.0\n",
       "603990    1590600.0    -275000.0\n",
       "603989    1047300.0    8019200.0"
      ]
     },
     "execution_count": 24,
     "metadata": {},
     "output_type": "execute_result"
    }
   ],
   "source": [
    "df = sq.get_day_today_money(fields=['money_major','money_small'], dropna=True)\n",
    "print(len(df))\n",
    "df.head()"
   ]
  },
  {
   "cell_type": "markdown",
   "metadata": {},
   "source": [
    "#### 所有个股数据\n",
    "包括当前价格和成交量等，服务器上每5秒更新一次数据，请不要过于频繁调用"
   ]
  },
  {
   "cell_type": "code",
   "execution_count": 5,
   "metadata": {},
   "outputs": [
    {
     "name": "stdout",
     "output_type": "stream",
     "text": [
      "3232\n"
     ]
    },
    {
     "data": {
      "text/html": [
       "<div>\n",
       "<style>\n",
       "    .dataframe thead tr:only-child th {\n",
       "        text-align: right;\n",
       "    }\n",
       "\n",
       "    .dataframe thead th {\n",
       "        text-align: left;\n",
       "    }\n",
       "\n",
       "    .dataframe tbody tr th {\n",
       "        vertical-align: top;\n",
       "    }\n",
       "</style>\n",
       "<table border=\"1\" class=\"dataframe\">\n",
       "  <thead>\n",
       "    <tr style=\"text-align: right;\">\n",
       "      <th></th>\n",
       "      <th>prev_close</th>\n",
       "      <th>open</th>\n",
       "      <th>close</th>\n",
       "      <th>high</th>\n",
       "      <th>low</th>\n",
       "      <th>volume</th>\n",
       "      <th>amount</th>\n",
       "      <th>pt_price</th>\n",
       "      <th>pt_ampl</th>\n",
       "      <th>pt_turn</th>\n",
       "      <th>...</th>\n",
       "      <th>money_major</th>\n",
       "      <th>pt_money_major</th>\n",
       "      <th>money_huge</th>\n",
       "      <th>pt_money_huge</th>\n",
       "      <th>money_large</th>\n",
       "      <th>pt_money_large</th>\n",
       "      <th>money_medium</th>\n",
       "      <th>pt_money_medium</th>\n",
       "      <th>money_small</th>\n",
       "      <th>pt_money_small</th>\n",
       "    </tr>\n",
       "  </thead>\n",
       "  <tbody>\n",
       "    <tr>\n",
       "      <th>000001</th>\n",
       "      <td>11.54</td>\n",
       "      <td>11.49</td>\n",
       "      <td>11.46</td>\n",
       "      <td>11.51</td>\n",
       "      <td>11.37</td>\n",
       "      <td>22839400.0</td>\n",
       "      <td>261200000.0</td>\n",
       "      <td>-0.69</td>\n",
       "      <td>1.2</td>\n",
       "      <td>0.1</td>\n",
       "      <td>...</td>\n",
       "      <td>26144600.0</td>\n",
       "      <td>3.10</td>\n",
       "      <td>25029500.0</td>\n",
       "      <td>2.97</td>\n",
       "      <td>1115100.0</td>\n",
       "      <td>0.13</td>\n",
       "      <td>-15303400.0</td>\n",
       "      <td>-1.81</td>\n",
       "      <td>-10841200.0</td>\n",
       "      <td>-1.28</td>\n",
       "    </tr>\n",
       "    <tr>\n",
       "      <th>000002</th>\n",
       "      <td>29.45</td>\n",
       "      <td>29.23</td>\n",
       "      <td>28.86</td>\n",
       "      <td>29.52</td>\n",
       "      <td>28.45</td>\n",
       "      <td>17171200.0</td>\n",
       "      <td>496520000.0</td>\n",
       "      <td>-2.00</td>\n",
       "      <td>3.6</td>\n",
       "      <td>0.1</td>\n",
       "      <td>...</td>\n",
       "      <td>-65003400.0</td>\n",
       "      <td>-5.09</td>\n",
       "      <td>-70189500.0</td>\n",
       "      <td>-5.49</td>\n",
       "      <td>5186100.0</td>\n",
       "      <td>0.41</td>\n",
       "      <td>-24442000.0</td>\n",
       "      <td>-1.91</td>\n",
       "      <td>89445400.0</td>\n",
       "      <td>7.00</td>\n",
       "    </tr>\n",
       "    <tr>\n",
       "      <th>000004</th>\n",
       "      <td>23.60</td>\n",
       "      <td>23.60</td>\n",
       "      <td>23.55</td>\n",
       "      <td>23.66</td>\n",
       "      <td>23.42</td>\n",
       "      <td>172800.0</td>\n",
       "      <td>4070000.0</td>\n",
       "      <td>-0.21</td>\n",
       "      <td>1.0</td>\n",
       "      <td>0.2</td>\n",
       "      <td>...</td>\n",
       "      <td>-464000.0</td>\n",
       "      <td>-4.23</td>\n",
       "      <td>0.0</td>\n",
       "      <td>0.00</td>\n",
       "      <td>-464000.0</td>\n",
       "      <td>-4.23</td>\n",
       "      <td>-594900.0</td>\n",
       "      <td>-5.42</td>\n",
       "      <td>1058900.0</td>\n",
       "      <td>9.65</td>\n",
       "    </tr>\n",
       "    <tr>\n",
       "      <th>000005</th>\n",
       "      <td>4.62</td>\n",
       "      <td>4.62</td>\n",
       "      <td>4.59</td>\n",
       "      <td>4.63</td>\n",
       "      <td>4.58</td>\n",
       "      <td>1362700.0</td>\n",
       "      <td>6260000.0</td>\n",
       "      <td>-0.65</td>\n",
       "      <td>1.0</td>\n",
       "      <td>0.1</td>\n",
       "      <td>...</td>\n",
       "      <td>-1055500.0</td>\n",
       "      <td>-4.23</td>\n",
       "      <td>2113200.0</td>\n",
       "      <td>8.48</td>\n",
       "      <td>-3168700.0</td>\n",
       "      <td>-12.71</td>\n",
       "      <td>-2341000.0</td>\n",
       "      <td>-9.39</td>\n",
       "      <td>3396500.0</td>\n",
       "      <td>13.62</td>\n",
       "    </tr>\n",
       "    <tr>\n",
       "      <th>000008</th>\n",
       "      <td>9.17</td>\n",
       "      <td>9.17</td>\n",
       "      <td>8.90</td>\n",
       "      <td>9.20</td>\n",
       "      <td>8.86</td>\n",
       "      <td>4787400.0</td>\n",
       "      <td>43070000.0</td>\n",
       "      <td>-2.94</td>\n",
       "      <td>3.7</td>\n",
       "      <td>0.2</td>\n",
       "      <td>...</td>\n",
       "      <td>46120600.0</td>\n",
       "      <td>25.10</td>\n",
       "      <td>25125500.0</td>\n",
       "      <td>13.67</td>\n",
       "      <td>20995100.0</td>\n",
       "      <td>11.43</td>\n",
       "      <td>-28975800.0</td>\n",
       "      <td>-15.77</td>\n",
       "      <td>-17144800.0</td>\n",
       "      <td>-9.33</td>\n",
       "    </tr>\n",
       "  </tbody>\n",
       "</table>\n",
       "<p>5 rows × 21 columns</p>\n",
       "</div>"
      ],
      "text/plain": [
       "        prev_close   open  close   high    low      volume       amount  \\\n",
       "000001       11.54  11.49  11.46  11.51  11.37  22839400.0  261200000.0   \n",
       "000002       29.45  29.23  28.86  29.52  28.45  17171200.0  496520000.0   \n",
       "000004       23.60  23.60  23.55  23.66  23.42    172800.0    4070000.0   \n",
       "000005        4.62   4.62   4.59   4.63   4.58   1362700.0    6260000.0   \n",
       "000008        9.17   9.17   8.90   9.20   8.86   4787400.0   43070000.0   \n",
       "\n",
       "        pt_price  pt_ampl  pt_turn       ...       money_major  \\\n",
       "000001     -0.69      1.2      0.1       ...        26144600.0   \n",
       "000002     -2.00      3.6      0.1       ...       -65003400.0   \n",
       "000004     -0.21      1.0      0.2       ...         -464000.0   \n",
       "000005     -0.65      1.0      0.1       ...        -1055500.0   \n",
       "000008     -2.94      3.7      0.2       ...        46120600.0   \n",
       "\n",
       "        pt_money_major  money_huge  pt_money_huge  money_large  \\\n",
       "000001            3.10  25029500.0           2.97    1115100.0   \n",
       "000002           -5.09 -70189500.0          -5.49    5186100.0   \n",
       "000004           -4.23         0.0           0.00    -464000.0   \n",
       "000005           -4.23   2113200.0           8.48   -3168700.0   \n",
       "000008           25.10  25125500.0          13.67   20995100.0   \n",
       "\n",
       "        pt_money_large  money_medium  pt_money_medium  money_small  \\\n",
       "000001            0.13   -15303400.0            -1.81  -10841200.0   \n",
       "000002            0.41   -24442000.0            -1.91   89445400.0   \n",
       "000004           -4.23     -594900.0            -5.42    1058900.0   \n",
       "000005          -12.71    -2341000.0            -9.39    3396500.0   \n",
       "000008           11.43   -28975800.0           -15.77  -17144800.0   \n",
       "\n",
       "        pt_money_small  \n",
       "000001           -1.28  \n",
       "000002            7.00  \n",
       "000004            9.65  \n",
       "000005           13.62  \n",
       "000008           -9.33  \n",
       "\n",
       "[5 rows x 21 columns]"
      ]
     },
     "execution_count": 5,
     "metadata": {},
     "output_type": "execute_result"
    }
   ],
   "source": [
    "df = sq.get_day_today()\n",
    "print(len(df))\n",
    "df.head()"
   ]
  },
  {
   "cell_type": "markdown",
   "metadata": {},
   "source": [
    "#### 指定字段"
   ]
  },
  {
   "cell_type": "code",
   "execution_count": 6,
   "metadata": {},
   "outputs": [
    {
     "name": "stdout",
     "output_type": "stream",
     "text": [
      "3232\n"
     ]
    },
    {
     "data": {
      "text/html": [
       "<div>\n",
       "<style>\n",
       "    .dataframe thead tr:only-child th {\n",
       "        text-align: right;\n",
       "    }\n",
       "\n",
       "    .dataframe thead th {\n",
       "        text-align: left;\n",
       "    }\n",
       "\n",
       "    .dataframe tbody tr th {\n",
       "        vertical-align: top;\n",
       "    }\n",
       "</style>\n",
       "<table border=\"1\" class=\"dataframe\">\n",
       "  <thead>\n",
       "    <tr style=\"text-align: right;\">\n",
       "      <th></th>\n",
       "      <th>close</th>\n",
       "      <th>volume</th>\n",
       "      <th>amount</th>\n",
       "      <th>pt_price</th>\n",
       "      <th>pt_ampl</th>\n",
       "      <th>pt_turn</th>\n",
       "      <th>money_major</th>\n",
       "      <th>money_small</th>\n",
       "      <th>time</th>\n",
       "    </tr>\n",
       "  </thead>\n",
       "  <tbody>\n",
       "    <tr>\n",
       "      <th>000001</th>\n",
       "      <td>11.46</td>\n",
       "      <td>22839400.0</td>\n",
       "      <td>261200000.0</td>\n",
       "      <td>-0.69</td>\n",
       "      <td>1.2</td>\n",
       "      <td>0.1</td>\n",
       "      <td>26144600.0</td>\n",
       "      <td>-10841200.0</td>\n",
       "      <td>2017-11-03 10:38:00</td>\n",
       "    </tr>\n",
       "    <tr>\n",
       "      <th>000002</th>\n",
       "      <td>28.86</td>\n",
       "      <td>17171200.0</td>\n",
       "      <td>496520000.0</td>\n",
       "      <td>-2.00</td>\n",
       "      <td>3.6</td>\n",
       "      <td>0.1</td>\n",
       "      <td>-65003400.0</td>\n",
       "      <td>89445400.0</td>\n",
       "      <td>2017-11-03 10:38:00</td>\n",
       "    </tr>\n",
       "    <tr>\n",
       "      <th>000004</th>\n",
       "      <td>23.55</td>\n",
       "      <td>172800.0</td>\n",
       "      <td>4070000.0</td>\n",
       "      <td>-0.21</td>\n",
       "      <td>1.0</td>\n",
       "      <td>0.2</td>\n",
       "      <td>-464000.0</td>\n",
       "      <td>1058900.0</td>\n",
       "      <td>2017-11-03 10:38:00</td>\n",
       "    </tr>\n",
       "    <tr>\n",
       "      <th>000005</th>\n",
       "      <td>4.59</td>\n",
       "      <td>1362700.0</td>\n",
       "      <td>6260000.0</td>\n",
       "      <td>-0.65</td>\n",
       "      <td>1.0</td>\n",
       "      <td>0.1</td>\n",
       "      <td>-1055500.0</td>\n",
       "      <td>3396500.0</td>\n",
       "      <td>2017-11-03 10:38:00</td>\n",
       "    </tr>\n",
       "    <tr>\n",
       "      <th>000008</th>\n",
       "      <td>8.90</td>\n",
       "      <td>4787400.0</td>\n",
       "      <td>43070000.0</td>\n",
       "      <td>-2.94</td>\n",
       "      <td>3.7</td>\n",
       "      <td>0.2</td>\n",
       "      <td>46120600.0</td>\n",
       "      <td>-17144800.0</td>\n",
       "      <td>2017-11-03 10:38:00</td>\n",
       "    </tr>\n",
       "  </tbody>\n",
       "</table>\n",
       "</div>"
      ],
      "text/plain": [
       "        close      volume       amount  pt_price  pt_ampl  pt_turn  \\\n",
       "000001  11.46  22839400.0  261200000.0     -0.69      1.2      0.1   \n",
       "000002  28.86  17171200.0  496520000.0     -2.00      3.6      0.1   \n",
       "000004  23.55    172800.0    4070000.0     -0.21      1.0      0.2   \n",
       "000005   4.59   1362700.0    6260000.0     -0.65      1.0      0.1   \n",
       "000008   8.90   4787400.0   43070000.0     -2.94      3.7      0.2   \n",
       "\n",
       "        money_major  money_small                time  \n",
       "000001   26144600.0  -10841200.0 2017-11-03 10:38:00  \n",
       "000002  -65003400.0   89445400.0 2017-11-03 10:38:00  \n",
       "000004    -464000.0    1058900.0 2017-11-03 10:38:00  \n",
       "000005   -1055500.0    3396500.0 2017-11-03 10:38:00  \n",
       "000008   46120600.0  -17144800.0 2017-11-03 10:38:00  "
      ]
     },
     "execution_count": 6,
     "metadata": {},
     "output_type": "execute_result"
    }
   ],
   "source": [
    "df = sq.get_day_today(fields=['close','volume','amount','pt_price','pt_ampl','pt_turn','money_major','money_small','time'], dropna=True)\n",
    "print(len(df))\n",
    "df.head()"
   ]
  },
  {
   "cell_type": "markdown",
   "metadata": {},
   "source": [
    "#### 只要小盘非ST非次新股"
   ]
  },
  {
   "cell_type": "code",
   "execution_count": 7,
   "metadata": {},
   "outputs": [
    {
     "name": "stdout",
     "output_type": "stream",
     "text": [
      "232\n"
     ]
    },
    {
     "data": {
      "text/html": [
       "<div>\n",
       "<style>\n",
       "    .dataframe thead tr:only-child th {\n",
       "        text-align: right;\n",
       "    }\n",
       "\n",
       "    .dataframe thead th {\n",
       "        text-align: left;\n",
       "    }\n",
       "\n",
       "    .dataframe tbody tr th {\n",
       "        vertical-align: top;\n",
       "    }\n",
       "</style>\n",
       "<table border=\"1\" class=\"dataframe\">\n",
       "  <thead>\n",
       "    <tr style=\"text-align: right;\">\n",
       "      <th></th>\n",
       "      <th>close</th>\n",
       "      <th>volume</th>\n",
       "      <th>amount</th>\n",
       "      <th>pt_price</th>\n",
       "    </tr>\n",
       "  </thead>\n",
       "  <tbody>\n",
       "    <tr>\n",
       "      <th>300560</th>\n",
       "      <td>33.13</td>\n",
       "      <td>1642300.0</td>\n",
       "      <td>54430000.0</td>\n",
       "      <td>-4.17</td>\n",
       "    </tr>\n",
       "    <tr>\n",
       "      <th>300559</th>\n",
       "      <td>41.58</td>\n",
       "      <td>65800.0</td>\n",
       "      <td>2710000.0</td>\n",
       "      <td>-0.02</td>\n",
       "    </tr>\n",
       "    <tr>\n",
       "      <th>300557</th>\n",
       "      <td>43.08</td>\n",
       "      <td>97100.0</td>\n",
       "      <td>4180000.0</td>\n",
       "      <td>-0.23</td>\n",
       "    </tr>\n",
       "    <tr>\n",
       "      <th>603716</th>\n",
       "      <td>51.21</td>\n",
       "      <td>133800.0</td>\n",
       "      <td>6820000.0</td>\n",
       "      <td>0.08</td>\n",
       "    </tr>\n",
       "    <tr>\n",
       "      <th>002817</th>\n",
       "      <td>33.35</td>\n",
       "      <td>151600.0</td>\n",
       "      <td>5050000.0</td>\n",
       "      <td>0.24</td>\n",
       "    </tr>\n",
       "  </tbody>\n",
       "</table>\n",
       "</div>"
      ],
      "text/plain": [
       "        close     volume      amount  pt_price\n",
       "300560  33.13  1642300.0  54430000.0     -4.17\n",
       "300559  41.58    65800.0   2710000.0     -0.02\n",
       "300557  43.08    97100.0   4180000.0     -0.23\n",
       "603716  51.21   133800.0   6820000.0      0.08\n",
       "002817  33.35   151600.0   5050000.0      0.24"
      ]
     },
     "execution_count": 7,
     "metadata": {},
     "output_type": "execute_result"
    }
   ],
   "source": [
    "df = sq.get_day_today(fields=['close','volume','amount','pt_price'], small_only=True, no_st=True, no_subnew=True)\n",
    "print(len(df))\n",
    "df.head()"
   ]
  },
  {
   "cell_type": "markdown",
   "metadata": {},
   "source": [
    "# 历史数据"
   ]
  },
  {
   "cell_type": "markdown",
   "metadata": {},
   "source": [
    "# 辅助函数"
   ]
  },
  {
   "cell_type": "markdown",
   "metadata": {},
   "source": [
    "### 交易日期时间相关\n",
    "- get_last_trading_day()          返回最近一个交易日\n",
    "- get_last_histrade_day(days=0)   返回最近一个历史交易日\n",
    "- get_delta_trade_day(date, days) 返回前后days个交易日\n",
    "- get_prev_trade_day(date)      获取上一交易日\n",
    "- get_next_trade_day(date) 获取下一交易日"
   ]
  },
  {
   "cell_type": "markdown",
   "metadata": {},
   "source": [
    "#### 是否是交易时间"
   ]
  },
  {
   "cell_type": "code",
   "execution_count": 18,
   "metadata": {},
   "outputs": [
    {
     "data": {
      "text/plain": [
       "True"
      ]
     },
     "execution_count": 18,
     "metadata": {},
     "output_type": "execute_result"
    }
   ],
   "source": [
    "sq.is_trading_day('2017-10-09')"
   ]
  },
  {
   "cell_type": "code",
   "execution_count": 19,
   "metadata": {},
   "outputs": [
    {
     "data": {
      "text/plain": [
       "True"
      ]
     },
     "execution_count": 19,
     "metadata": {},
     "output_type": "execute_result"
    }
   ],
   "source": [
    "sq.is_trading_day_today()"
   ]
  },
  {
   "cell_type": "code",
   "execution_count": 11,
   "metadata": {},
   "outputs": [
    {
     "data": {
      "text/plain": [
       "True"
      ]
     },
     "execution_count": 11,
     "metadata": {},
     "output_type": "execute_result"
    }
   ],
   "source": [
    "sq.is_trading_time('2017-10-09 10:00:00')"
   ]
  },
  {
   "cell_type": "code",
   "execution_count": 9,
   "metadata": {},
   "outputs": [
    {
     "data": {
      "text/plain": [
       "False"
      ]
     },
     "execution_count": 9,
     "metadata": {},
     "output_type": "execute_result"
    }
   ],
   "source": [
    "sq.is_trading_time_now()"
   ]
  },
  {
   "cell_type": "markdown",
   "metadata": {},
   "source": [
    "# 工具函数"
   ]
  },
  {
   "cell_type": "markdown",
   "metadata": {},
   "source": [
    "### 格式化\n",
    "- fmt_round_number(count, keep_width=False):\n",
    "- fmt_file_size(size):\n",
    "- fmt_money(money):\n",
    "- fmt_numpy_datetime64(t, fmt):"
   ]
  },
  {
   "cell_type": "code",
   "execution_count": 30,
   "metadata": {},
   "outputs": [
    {
     "data": {
      "text/plain": [
       "('1', '1.23')"
      ]
     },
     "execution_count": 30,
     "metadata": {},
     "output_type": "execute_result"
    }
   ],
   "source": [
    "sq.fmt_round_number(1),sq.fmt_round_number(1.2345)"
   ]
  },
  {
   "cell_type": "code",
   "execution_count": 33,
   "metadata": {},
   "outputs": [
    {
     "data": {
      "text/plain": [
       "('1', '1K', '8K', '800K')"
      ]
     },
     "execution_count": 33,
     "metadata": {},
     "output_type": "execute_result"
    }
   ],
   "source": [
    "sq.fmt_file_size(1),sq.fmt_file_size(1024),sq.fmt_file_size(8192),sq.fmt_file_size(819200)"
   ]
  },
  {
   "cell_type": "code",
   "execution_count": 35,
   "metadata": {},
   "outputs": [
    {
     "data": {
      "text/plain": [
       "('1000', '100.00万')"
      ]
     },
     "execution_count": 35,
     "metadata": {},
     "output_type": "execute_result"
    }
   ],
   "source": [
    "sq.fmt_money(1000),sq.fmt_money(1000000)"
   ]
  },
  {
   "cell_type": "markdown",
   "metadata": {},
   "source": [
    "### 日期时间相关"
   ]
  },
  {
   "cell_type": "code",
   "execution_count": 26,
   "metadata": {
    "scrolled": true
   },
   "outputs": [
    {
     "data": {
      "text/plain": [
       "True"
      ]
     },
     "execution_count": 26,
     "metadata": {},
     "output_type": "execute_result"
    }
   ],
   "source": [
    "sq.is_holiday('2017-10-01')"
   ]
  },
  {
   "cell_type": "code",
   "execution_count": 27,
   "metadata": {},
   "outputs": [
    {
     "data": {
      "text/plain": [
       "False"
      ]
     },
     "execution_count": 27,
     "metadata": {},
     "output_type": "execute_result"
    }
   ],
   "source": [
    "sq.is_holiday_today()"
   ]
  }
 ],
 "metadata": {
  "kernelspec": {
   "display_name": "Python 3",
   "language": "python",
   "name": "python3"
  },
  "language_info": {
   "codemirror_mode": {
    "name": "ipython",
    "version": 3
   },
   "file_extension": ".py",
   "mimetype": "text/x-python",
   "name": "python",
   "nbconvert_exporter": "python",
   "pygments_lexer": "ipython3",
   "version": "3.6.3"
  },
  "toc": {
   "colors": {
    "hover_highlight": "#DAA520",
    "navigate_num": "#000000",
    "navigate_text": "#333333",
    "running_highlight": "#FF0000",
    "selected_highlight": "#FFD700",
    "sidebar_border": "#EEEEEE",
    "wrapper_background": "#FFFFFF"
   },
   "moveMenuLeft": true,
   "nav_menu": {
    "height": "12px",
    "width": "252px"
   },
   "navigate_menu": true,
   "number_sections": false,
   "sideBar": true,
   "threshold": "4",
   "toc_cell": true,
   "toc_section_display": "block",
   "toc_window_display": true,
   "widenNotebook": false
  }
 },
 "nbformat": 4,
 "nbformat_minor": 2
}
